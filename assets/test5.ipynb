{
 "cells": [
  {
   "cell_type": "code",
   "execution_count": 1217,
   "id": "428e3176",
   "metadata": {},
   "outputs": [],
   "source": [
    "import pandas as pd \n",
    "import requests\n",
    "import json \n",
    "import mysql.connector\n",
    "from dotenv import load_dotenv\n",
    "import os"
   ]
  },
  {
   "cell_type": "code",
   "execution_count": 1193,
   "id": "9cb924d5",
   "metadata": {},
   "outputs": [
    {
     "data": {
      "text/plain": [
       "True"
      ]
     },
     "execution_count": 1193,
     "metadata": {},
     "output_type": "execute_result"
    }
   ],
   "source": [
    "load_dotenv()"
   ]
  },
  {
   "cell_type": "code",
   "execution_count": 1194,
   "id": "e50d8118",
   "metadata": {},
   "outputs": [
    {
     "name": "stdout",
     "output_type": "stream",
     "text": [
      "https://www.thesportsdb.com/api/v1/json/123/lookuptable.php?l=4328&s=2024-2025\n"
     ]
    }
   ],
   "source": [
    "API_KEY = os.getenv(\"API_KEY\")\n",
    "print(API_KEY)"
   ]
  },
  {
   "cell_type": "code",
   "execution_count": 1195,
   "id": "aac6108e",
   "metadata": {},
   "outputs": [],
   "source": [
    "url = \"https://www.thesportsdb.com/api/v1/json/123/lookuptable.php?l=4328&s=2024-2025\"\n",
    "headers = {\n",
    "    \"X-Auth-Token\": API_KEY\n",
    "}\n",
    "querystring = {\n",
    "   \"season\": 2024\n",
    "}"
   ]
  },
  {
   "cell_type": "code",
   "execution_count": 1196,
   "id": "c2bc7c44",
   "metadata": {},
   "outputs": [],
   "source": [
    "response = requests.get(url= url, headers=headers, params=querystring)\n",
    "\n",
    "payload = response.json()\n"
   ]
  },
  {
   "cell_type": "code",
   "execution_count": 1197,
   "id": "0b48cc64",
   "metadata": {},
   "outputs": [
    {
     "data": {
      "text/plain": [
       "{'table': [{'idStanding': '5746351',\n",
       "   'intRank': '1',\n",
       "   'idTeam': '133602',\n",
       "   'strTeam': 'Liverpool',\n",
       "   'strBadge': 'https://r2.thesportsdb.com/images/media/team/badge/kfaher1737969724.png/tiny',\n",
       "   'idLeague': '4328',\n",
       "   'strLeague': 'English Premier League',\n",
       "   'strSeason': '2024-2025',\n",
       "   'strForm': 'DLDLW',\n",
       "   'strDescription': 'Champions League',\n",
       "   'intPlayed': '38',\n",
       "   'intWin': '25',\n",
       "   'intLoss': '4',\n",
       "   'intDraw': '9',\n",
       "   'intGoalsFor': '86',\n",
       "   'intGoalsAgainst': '41',\n",
       "   'intGoalDifference': '45',\n",
       "   'intPoints': '84',\n",
       "   'dateUpdated': '2025-06-17 23:00:07'},\n",
       "  {'idStanding': '5746352',\n",
       "   'intRank': '2',\n",
       "   'idTeam': '133604',\n",
       "   'strTeam': 'Arsenal',\n",
       "   'strBadge': 'https://r2.thesportsdb.com/images/media/team/badge/uyhbfe1612467038.png/tiny',\n",
       "   'idLeague': '4328',\n",
       "   'strLeague': 'English Premier League',\n",
       "   'strSeason': '2024-2025',\n",
       "   'strForm': 'WWDLD',\n",
       "   'strDescription': 'Champions League',\n",
       "   'intPlayed': '38',\n",
       "   'intWin': '20',\n",
       "   'intLoss': '4',\n",
       "   'intDraw': '14',\n",
       "   'intGoalsFor': '69',\n",
       "   'intGoalsAgainst': '34',\n",
       "   'intGoalDifference': '35',\n",
       "   'intPoints': '74',\n",
       "   'dateUpdated': '2025-06-17 23:00:07'},\n",
       "  {'idStanding': '5746353',\n",
       "   'intRank': '3',\n",
       "   'idTeam': '133613',\n",
       "   'strTeam': 'Manchester City',\n",
       "   'strBadge': 'https://r2.thesportsdb.com/images/media/team/badge/vwpvry1467462651.png/tiny',\n",
       "   'idLeague': '4328',\n",
       "   'strLeague': 'English Premier League',\n",
       "   'strSeason': '2024-2025',\n",
       "   'strForm': 'WWDWW',\n",
       "   'strDescription': 'Champions League',\n",
       "   'intPlayed': '38',\n",
       "   'intWin': '21',\n",
       "   'intLoss': '9',\n",
       "   'intDraw': '8',\n",
       "   'intGoalsFor': '72',\n",
       "   'intGoalsAgainst': '44',\n",
       "   'intGoalDifference': '28',\n",
       "   'intPoints': '71',\n",
       "   'dateUpdated': '2025-06-17 23:00:07'},\n",
       "  {'idStanding': '5746354',\n",
       "   'intRank': '4',\n",
       "   'idTeam': '133610',\n",
       "   'strTeam': 'Chelsea',\n",
       "   'strBadge': 'https://r2.thesportsdb.com/images/media/team/badge/yvwvtu1448813215.png/tiny',\n",
       "   'idLeague': '4328',\n",
       "   'strLeague': 'English Premier League',\n",
       "   'strSeason': '2024-2025',\n",
       "   'strForm': 'WWLWW',\n",
       "   'strDescription': 'Champions League',\n",
       "   'intPlayed': '38',\n",
       "   'intWin': '20',\n",
       "   'intLoss': '9',\n",
       "   'intDraw': '9',\n",
       "   'intGoalsFor': '64',\n",
       "   'intGoalsAgainst': '43',\n",
       "   'intGoalDifference': '21',\n",
       "   'intPoints': '69',\n",
       "   'dateUpdated': '2025-06-17 23:00:07'},\n",
       "  {'idStanding': '5746355',\n",
       "   'intRank': '5',\n",
       "   'idTeam': '134777',\n",
       "   'strTeam': 'Newcastle United',\n",
       "   'strBadge': 'https://r2.thesportsdb.com/images/media/team/badge/lhwuiz1621593302.png/tiny',\n",
       "   'idLeague': '4328',\n",
       "   'strLeague': 'English Premier League',\n",
       "   'strSeason': '2024-2025',\n",
       "   'strForm': 'LLWDW',\n",
       "   'strDescription': 'Champions League',\n",
       "   'intPlayed': '38',\n",
       "   'intWin': '20',\n",
       "   'intLoss': '12',\n",
       "   'intDraw': '6',\n",
       "   'intGoalsFor': '68',\n",
       "   'intGoalsAgainst': '47',\n",
       "   'intGoalDifference': '21',\n",
       "   'intPoints': '66',\n",
       "   'dateUpdated': '2025-06-17 23:00:07'}]}"
      ]
     },
     "execution_count": 1197,
     "metadata": {},
     "output_type": "execute_result"
    }
   ],
   "source": [
    "formattet_response = json.dumps(payload, indent= 4)\n",
    "\n",
    "payload\n",
    "\n"
   ]
  },
  {
   "cell_type": "code",
   "execution_count": 1198,
   "id": "0914ea31",
   "metadata": {},
   "outputs": [],
   "source": [
    "standingslist = payload[\"table\"]\n",
    "\n",
    "\n"
   ]
  },
  {
   "cell_type": "code",
   "execution_count": null,
   "id": "756d4173",
   "metadata": {},
   "outputs": [
    {
     "name": "stdout",
     "output_type": "stream",
     "text": [
      "\n",
      "\n",
      "\n",
      "[\n",
      "    {\n",
      "        \"idStanding\": \"5746351\",\n",
      "        \"intRank\": \"1\",\n",
      "        \"idTeam\": \"133602\",\n",
      "        \"strTeam\": \"Liverpool\",\n",
      "        \"strBadge\": \"https://r2.thesportsdb.com/images/media/team/badge/kfaher1737969724.png/tiny\",\n",
      "        \"idLeague\": \"4328\",\n",
      "        \"strLeague\": \"English Premier League\",\n",
      "        \"strSeason\": \"2024-2025\",\n",
      "        \"strForm\": \"DLDLW\",\n",
      "        \"strDescription\": \"Champions League\",\n",
      "        \"intPlayed\": \"38\",\n",
      "        \"intWin\": \"25\",\n",
      "        \"intLoss\": \"4\",\n",
      "        \"intDraw\": \"9\",\n",
      "        \"intGoalsFor\": \"86\",\n",
      "        \"intGoalsAgainst\": \"41\",\n",
      "        \"intGoalDifference\": \"45\",\n",
      "        \"intPoints\": \"84\",\n",
      "        \"dateUpdated\": \"2025-06-17 23:00:07\"\n",
      "    },\n",
      "    {\n",
      "        \"idStanding\": \"5746352\",\n",
      "        \"intRank\": \"2\",\n",
      "        \"idTeam\": \"133604\",\n",
      "        \"strTeam\": \"Arsenal\",\n",
      "        \"strBadge\": \"https://r2.thesportsdb.com/images/media/team/badge/uyhbfe1612467038.png/tiny\",\n",
      "        \"idLeague\": \"4328\",\n",
      "        \"strLeague\": \"English Premier League\",\n",
      "        \"strSeason\": \"2024-2025\",\n",
      "        \"strForm\": \"WWDLD\",\n",
      "        \"strDescription\": \"Champions League\",\n",
      "        \"intPlayed\": \"38\",\n",
      "        \"intWin\": \"20\",\n",
      "        \"intLoss\": \"4\",\n",
      "        \"intDraw\": \"14\",\n",
      "        \"intGoalsFor\": \"69\",\n",
      "        \"intGoalsAgainst\": \"34\",\n",
      "        \"intGoalDifference\": \"35\",\n",
      "        \"intPoints\": \"74\",\n",
      "        \"dateUpdated\": \"2025-06-17 23:00:07\"\n",
      "    },\n",
      "    {\n",
      "        \"idStanding\": \"5746353\",\n",
      "        \"intRank\": \"3\",\n",
      "        \"idTeam\": \"133613\",\n",
      "        \"strTeam\": \"Manchester City\",\n",
      "        \"strBadge\": \"https://r2.thesportsdb.com/images/media/team/badge/vwpvry1467462651.png/tiny\",\n",
      "        \"idLeague\": \"4328\",\n",
      "        \"strLeague\": \"English Premier League\",\n",
      "        \"strSeason\": \"2024-2025\",\n",
      "        \"strForm\": \"WWDWW\",\n",
      "        \"strDescription\": \"Champions League\",\n",
      "        \"intPlayed\": \"38\",\n",
      "        \"intWin\": \"21\",\n",
      "        \"intLoss\": \"9\",\n",
      "        \"intDraw\": \"8\",\n",
      "        \"intGoalsFor\": \"72\",\n",
      "        \"intGoalsAgainst\": \"44\",\n",
      "        \"intGoalDifference\": \"28\",\n",
      "        \"intPoints\": \"71\",\n",
      "        \"dateUpdated\": \"2025-06-17 23:00:07\"\n",
      "    },\n",
      "    {\n",
      "        \"idStanding\": \"5746354\",\n",
      "        \"intRank\": \"4\",\n",
      "        \"idTeam\": \"133610\",\n",
      "        \"strTeam\": \"Chelsea\",\n",
      "        \"strBadge\": \"https://r2.thesportsdb.com/images/media/team/badge/yvwvtu1448813215.png/tiny\",\n",
      "        \"idLeague\": \"4328\",\n",
      "        \"strLeague\": \"English Premier League\",\n",
      "        \"strSeason\": \"2024-2025\",\n",
      "        \"strForm\": \"WWLWW\",\n",
      "        \"strDescription\": \"Champions League\",\n",
      "        \"intPlayed\": \"38\",\n",
      "        \"intWin\": \"20\",\n",
      "        \"intLoss\": \"9\",\n",
      "        \"intDraw\": \"9\",\n",
      "        \"intGoalsFor\": \"64\",\n",
      "        \"intGoalsAgainst\": \"43\",\n",
      "        \"intGoalDifference\": \"21\",\n",
      "        \"intPoints\": \"69\",\n",
      "        \"dateUpdated\": \"2025-06-17 23:00:07\"\n",
      "    },\n",
      "    {\n",
      "        \"idStanding\": \"5746355\",\n",
      "        \"intRank\": \"5\",\n",
      "        \"idTeam\": \"134777\",\n",
      "        \"strTeam\": \"Newcastle United\",\n",
      "        \"strBadge\": \"https://r2.thesportsdb.com/images/media/team/badge/lhwuiz1621593302.png/tiny\",\n",
      "        \"idLeague\": \"4328\",\n",
      "        \"strLeague\": \"English Premier League\",\n",
      "        \"strSeason\": \"2024-2025\",\n",
      "        \"strForm\": \"LLWDW\",\n",
      "        \"strDescription\": \"Champions League\",\n",
      "        \"intPlayed\": \"38\",\n",
      "        \"intWin\": \"20\",\n",
      "        \"intLoss\": \"12\",\n",
      "        \"intDraw\": \"6\",\n",
      "        \"intGoalsFor\": \"68\",\n",
      "        \"intGoalsAgainst\": \"47\",\n",
      "        \"intGoalDifference\": \"21\",\n",
      "        \"intPoints\": \"66\",\n",
      "        \"dateUpdated\": \"2025-06-17 23:00:07\"\n",
      "    }\n",
      "]\n"
     ]
    }
   ],
   "source": []
  },
  {
   "cell_type": "code",
   "execution_count": 1200,
   "id": "94be2751",
   "metadata": {},
   "outputs": [
    {
     "name": "stdout",
     "output_type": "stream",
     "text": [
      "84\n"
     ]
    }
   ],
   "source": [
    "Liverpool_points = standingslist[0]['intPoints']\n",
    "print(Liverpool_points)"
   ]
  },
  {
   "cell_type": "code",
   "execution_count": 1201,
   "id": "a67fc0ed",
   "metadata": {},
   "outputs": [],
   "source": [
    "rows = []\n",
    "collum_name = ['season','position', 'team_id', 'team', 'played', 'won', 'lost', 'draw', 'goals_for', 'goals_against', 'goal_difference', 'points', 'form']\n",
    " \n",
    "for club in standingslist:\n",
    "    season = 2024\n",
    "    position = club['intRank']\n",
    "    team_id = club['idTeam']\n",
    "    team = club['strTeam']\n",
    "    played = club['intPlayed']\n",
    "    won = club['intWin']\n",
    "    lost = club['intLoss']\n",
    "    draw = club['intDraw']\n",
    "    goals_for = club['intGoalsFor']\n",
    "    goals_against = club['intGoalsAgainst']\n",
    "    goal_difference = club['intGoalDifference']\n",
    "    points = club['intPoints']\n",
    "    form = club['strForm']\n",
    "\n",
    "\n",
    "    tuple_of_club_record = (season, position, team_id, team, played, won, lost, draw, goals_for, goals_against, goal_difference, points, form)\n",
    "\n",
    "    rows.append(tuple_of_club_record)\n",
    "\n"
   ]
  },
  {
   "cell_type": "code",
   "execution_count": 1202,
   "id": "31a2d40b",
   "metadata": {},
   "outputs": [
    {
     "name": "stdout",
     "output_type": "stream",
     "text": [
      "[(2024, '1', '133602', 'Liverpool', '38', '25', '4', '9', '86', '41', '45', '84', 'DLDLW'), (2024, '2', '133604', 'Arsenal', '38', '20', '4', '14', '69', '34', '35', '74', 'WWDLD'), (2024, '3', '133613', 'Manchester City', '38', '21', '9', '8', '72', '44', '28', '71', 'WWDWW'), (2024, '4', '133610', 'Chelsea', '38', '20', '9', '9', '64', '43', '21', '69', 'WWLWW'), (2024, '5', '134777', 'Newcastle United', '38', '20', '12', '6', '68', '47', '21', '66', 'LLWDW')]\n"
     ]
    }
   ],
   "source": [
    "print(rows)"
   ]
  },
  {
   "cell_type": "code",
   "execution_count": 1203,
   "id": "b5f4f7f2",
   "metadata": {},
   "outputs": [],
   "source": [
    "df = pd.DataFrame(rows, columns=collum_name)\n"
   ]
  },
  {
   "cell_type": "code",
   "execution_count": 1204,
   "id": "b5d0fca0",
   "metadata": {},
   "outputs": [
    {
     "data": {
      "text/html": [
       "<div>\n",
       "<style scoped>\n",
       "    .dataframe tbody tr th:only-of-type {\n",
       "        vertical-align: middle;\n",
       "    }\n",
       "\n",
       "    .dataframe tbody tr th {\n",
       "        vertical-align: top;\n",
       "    }\n",
       "\n",
       "    .dataframe thead th {\n",
       "        text-align: right;\n",
       "    }\n",
       "</style>\n",
       "<table border=\"1\" class=\"dataframe\">\n",
       "  <thead>\n",
       "    <tr style=\"text-align: right;\">\n",
       "      <th></th>\n",
       "      <th>season</th>\n",
       "      <th>position</th>\n",
       "      <th>team_id</th>\n",
       "      <th>team</th>\n",
       "      <th>played</th>\n",
       "      <th>won</th>\n",
       "      <th>lost</th>\n",
       "      <th>draw</th>\n",
       "      <th>goals_for</th>\n",
       "      <th>goals_against</th>\n",
       "      <th>goal_difference</th>\n",
       "      <th>points</th>\n",
       "      <th>form</th>\n",
       "    </tr>\n",
       "  </thead>\n",
       "  <tbody>\n",
       "    <tr>\n",
       "      <th>0</th>\n",
       "      <td>2024</td>\n",
       "      <td>1</td>\n",
       "      <td>133602</td>\n",
       "      <td>Liverpool</td>\n",
       "      <td>38</td>\n",
       "      <td>25</td>\n",
       "      <td>4</td>\n",
       "      <td>9</td>\n",
       "      <td>86</td>\n",
       "      <td>41</td>\n",
       "      <td>45</td>\n",
       "      <td>84</td>\n",
       "      <td>DLDLW</td>\n",
       "    </tr>\n",
       "    <tr>\n",
       "      <th>1</th>\n",
       "      <td>2024</td>\n",
       "      <td>2</td>\n",
       "      <td>133604</td>\n",
       "      <td>Arsenal</td>\n",
       "      <td>38</td>\n",
       "      <td>20</td>\n",
       "      <td>4</td>\n",
       "      <td>14</td>\n",
       "      <td>69</td>\n",
       "      <td>34</td>\n",
       "      <td>35</td>\n",
       "      <td>74</td>\n",
       "      <td>WWDLD</td>\n",
       "    </tr>\n",
       "    <tr>\n",
       "      <th>2</th>\n",
       "      <td>2024</td>\n",
       "      <td>3</td>\n",
       "      <td>133613</td>\n",
       "      <td>Manchester City</td>\n",
       "      <td>38</td>\n",
       "      <td>21</td>\n",
       "      <td>9</td>\n",
       "      <td>8</td>\n",
       "      <td>72</td>\n",
       "      <td>44</td>\n",
       "      <td>28</td>\n",
       "      <td>71</td>\n",
       "      <td>WWDWW</td>\n",
       "    </tr>\n",
       "    <tr>\n",
       "      <th>3</th>\n",
       "      <td>2024</td>\n",
       "      <td>4</td>\n",
       "      <td>133610</td>\n",
       "      <td>Chelsea</td>\n",
       "      <td>38</td>\n",
       "      <td>20</td>\n",
       "      <td>9</td>\n",
       "      <td>9</td>\n",
       "      <td>64</td>\n",
       "      <td>43</td>\n",
       "      <td>21</td>\n",
       "      <td>69</td>\n",
       "      <td>WWLWW</td>\n",
       "    </tr>\n",
       "    <tr>\n",
       "      <th>4</th>\n",
       "      <td>2024</td>\n",
       "      <td>5</td>\n",
       "      <td>134777</td>\n",
       "      <td>Newcastle United</td>\n",
       "      <td>38</td>\n",
       "      <td>20</td>\n",
       "      <td>12</td>\n",
       "      <td>6</td>\n",
       "      <td>68</td>\n",
       "      <td>47</td>\n",
       "      <td>21</td>\n",
       "      <td>66</td>\n",
       "      <td>LLWDW</td>\n",
       "    </tr>\n",
       "  </tbody>\n",
       "</table>\n",
       "</div>"
      ],
      "text/plain": [
       "   season position team_id              team played won lost draw goals_for  \\\n",
       "0    2024        1  133602         Liverpool     38  25    4    9        86   \n",
       "1    2024        2  133604           Arsenal     38  20    4   14        69   \n",
       "2    2024        3  133613   Manchester City     38  21    9    8        72   \n",
       "3    2024        4  133610           Chelsea     38  20    9    9        64   \n",
       "4    2024        5  134777  Newcastle United     38  20   12    6        68   \n",
       "\n",
       "  goals_against goal_difference points   form  \n",
       "0            41              45     84  DLDLW  \n",
       "1            34              35     74  WWDLD  \n",
       "2            44              28     71  WWDWW  \n",
       "3            43              21     69  WWLWW  \n",
       "4            47              21     66  LLWDW  "
      ]
     },
     "execution_count": 1204,
     "metadata": {},
     "output_type": "execute_result"
    }
   ],
   "source": [
    "df.head(13)"
   ]
  },
  {
   "cell_type": "code",
   "execution_count": 1205,
   "id": "c9e257d9",
   "metadata": {},
   "outputs": [],
   "source": [
    "MYSQL_HOST = os.getenv(\"MYSQL_HOST\")\n",
    "MYSQL_Port = os.getenv(\"MYSQL_Port\")\n",
    "MYSQL_PASSWORD = os.getenv(\"MYSQL_PASSWORD\")\n",
    "MYSQL_USER = os.getenv(\"MYSQL_USER\")\n",
    "MYSQL_DATABASE = os.getenv(\"MYSQL_DATABASE\")"
   ]
  },
  {
   "cell_type": "code",
   "execution_count": 1206,
   "id": "1a218701",
   "metadata": {},
   "outputs": [
    {
     "name": "stdout",
     "output_type": "stream",
     "text": [
      "[succesful] - connected to mysql server\n"
     ]
    }
   ],
   "source": [
    "server_conn = mysql.connector.connect(\n",
    "    host=MYSQL_HOST,\n",
    "    port=MYSQL_Port,\n",
    "    user=\"pl_app_writer\",\n",
    "    password=\"asdasd123x\",\n",
    "    database=\"PL_football\",\n",
    "    autocommit=False,\n",
    "    raise_on_warnings=True\n",
    ")\n",
    "\n",
    "server_cursor = server_conn.cursor()\n",
    "print(f\"[succesful] - connected to mysql server\")"
   ]
  },
  {
   "cell_type": "code",
   "execution_count": 1207,
   "id": "6faef288",
   "metadata": {},
   "outputs": [],
   "source": [
    "server_cursor.close()\n",
    "server_conn.close()"
   ]
  },
  {
   "cell_type": "code",
   "execution_count": 1208,
   "id": "9c5de272",
   "metadata": {},
   "outputs": [
    {
     "name": "stdout",
     "output_type": "stream",
     "text": [
      "[succesful] - connected to mysql server]\n"
     ]
    }
   ],
   "source": [
    "database_connection = mysql.connector.connect(\n",
    "\n",
    "host=MYSQL_HOST,\n",
    "port=MYSQL_Port,\n",
    "user=\"pl_app_writer\",\n",
    "password=\"asdasd123x\",\n",
    "database=\"PL_football\",\n",
    "autocommit=False,\n",
    "raise_on_warnings=True\n",
    ")\n",
    "cursor = database_connection.cursor()\n",
    "print(f\"[succesful] - connected to mysql server]\")"
   ]
  },
  {
   "cell_type": "code",
   "execution_count": 1209,
   "id": "05d5b591",
   "metadata": {},
   "outputs": [
    {
     "name": "stdout",
     "output_type": "stream",
     "text": [
      "[succes] - this tabel standing exist, godt arbjede ;)\n"
     ]
    }
   ],
   "source": [
    "sql_table = \"standing\"\n",
    "cursor.execute(\"SHOW TABLES LIKE %s\", (f\"{sql_table}\",))\n",
    "\n",
    "if cursor.fetchone() is None:\n",
    "    raise SystemExit(f\"this table {sql_table} is not found.... please create it...\")\n",
    "else:\n",
    "    print(f\"[succes] - this tabel {sql_table} exist, godt arbjede ;)\")\n"
   ]
  },
  {
   "cell_type": "code",
   "execution_count": 1210,
   "id": "1d4bdbbd",
   "metadata": {},
   "outputs": [],
   "source": [
    "user_team = \"Liverpool'; DROP TABLE standing\"\n",
    "cursor.execute(\"SELECT * FROM standing WHERE team = %s\", (user_team,))"
   ]
  },
  {
   "cell_type": "code",
   "execution_count": 1211,
   "id": "ced2de66",
   "metadata": {},
   "outputs": [],
   "source": [
    "#START THE UPSERT (UPDATE INSERT) OPERATION\n",
    "\n",
    "table_collums = ['season','position', 'team_id', 'team', 'played', 'won', 'lost', 'draw', 'goals_for', 'goals_against', 'goal_difference', 'points', 'form']\n",
    " \n",
    "\n",
    "standing_df = df[table_collums]\n"
   ]
  },
  {
   "cell_type": "code",
   "execution_count": 1212,
   "id": "ab5497d6",
   "metadata": {},
   "outputs": [
    {
     "data": {
      "text/html": [
       "<div>\n",
       "<style scoped>\n",
       "    .dataframe tbody tr th:only-of-type {\n",
       "        vertical-align: middle;\n",
       "    }\n",
       "\n",
       "    .dataframe tbody tr th {\n",
       "        vertical-align: top;\n",
       "    }\n",
       "\n",
       "    .dataframe thead th {\n",
       "        text-align: right;\n",
       "    }\n",
       "</style>\n",
       "<table border=\"1\" class=\"dataframe\">\n",
       "  <thead>\n",
       "    <tr style=\"text-align: right;\">\n",
       "      <th></th>\n",
       "      <th>season</th>\n",
       "      <th>position</th>\n",
       "      <th>team_id</th>\n",
       "      <th>team</th>\n",
       "      <th>played</th>\n",
       "      <th>won</th>\n",
       "      <th>lost</th>\n",
       "      <th>draw</th>\n",
       "      <th>goals_for</th>\n",
       "      <th>goals_against</th>\n",
       "      <th>goal_difference</th>\n",
       "      <th>points</th>\n",
       "      <th>form</th>\n",
       "    </tr>\n",
       "  </thead>\n",
       "  <tbody>\n",
       "    <tr>\n",
       "      <th>0</th>\n",
       "      <td>2024</td>\n",
       "      <td>1</td>\n",
       "      <td>133602</td>\n",
       "      <td>Liverpool</td>\n",
       "      <td>38</td>\n",
       "      <td>25</td>\n",
       "      <td>4</td>\n",
       "      <td>9</td>\n",
       "      <td>86</td>\n",
       "      <td>41</td>\n",
       "      <td>45</td>\n",
       "      <td>84</td>\n",
       "      <td>DLDLW</td>\n",
       "    </tr>\n",
       "    <tr>\n",
       "      <th>1</th>\n",
       "      <td>2024</td>\n",
       "      <td>2</td>\n",
       "      <td>133604</td>\n",
       "      <td>Arsenal</td>\n",
       "      <td>38</td>\n",
       "      <td>20</td>\n",
       "      <td>4</td>\n",
       "      <td>14</td>\n",
       "      <td>69</td>\n",
       "      <td>34</td>\n",
       "      <td>35</td>\n",
       "      <td>74</td>\n",
       "      <td>WWDLD</td>\n",
       "    </tr>\n",
       "    <tr>\n",
       "      <th>2</th>\n",
       "      <td>2024</td>\n",
       "      <td>3</td>\n",
       "      <td>133613</td>\n",
       "      <td>Manchester City</td>\n",
       "      <td>38</td>\n",
       "      <td>21</td>\n",
       "      <td>9</td>\n",
       "      <td>8</td>\n",
       "      <td>72</td>\n",
       "      <td>44</td>\n",
       "      <td>28</td>\n",
       "      <td>71</td>\n",
       "      <td>WWDWW</td>\n",
       "    </tr>\n",
       "    <tr>\n",
       "      <th>3</th>\n",
       "      <td>2024</td>\n",
       "      <td>4</td>\n",
       "      <td>133610</td>\n",
       "      <td>Chelsea</td>\n",
       "      <td>38</td>\n",
       "      <td>20</td>\n",
       "      <td>9</td>\n",
       "      <td>9</td>\n",
       "      <td>64</td>\n",
       "      <td>43</td>\n",
       "      <td>21</td>\n",
       "      <td>69</td>\n",
       "      <td>WWLWW</td>\n",
       "    </tr>\n",
       "    <tr>\n",
       "      <th>4</th>\n",
       "      <td>2024</td>\n",
       "      <td>5</td>\n",
       "      <td>134777</td>\n",
       "      <td>Newcastle United</td>\n",
       "      <td>38</td>\n",
       "      <td>20</td>\n",
       "      <td>12</td>\n",
       "      <td>6</td>\n",
       "      <td>68</td>\n",
       "      <td>47</td>\n",
       "      <td>21</td>\n",
       "      <td>66</td>\n",
       "      <td>LLWDW</td>\n",
       "    </tr>\n",
       "  </tbody>\n",
       "</table>\n",
       "</div>"
      ],
      "text/plain": [
       "   season position team_id              team played won lost draw goals_for  \\\n",
       "0    2024        1  133602         Liverpool     38  25    4    9        86   \n",
       "1    2024        2  133604           Arsenal     38  20    4   14        69   \n",
       "2    2024        3  133613   Manchester City     38  21    9    8        72   \n",
       "3    2024        4  133610           Chelsea     38  20    9    9        64   \n",
       "4    2024        5  134777  Newcastle United     38  20   12    6        68   \n",
       "\n",
       "  goals_against goal_difference points   form  \n",
       "0            41              45     84  DLDLW  \n",
       "1            34              35     74  WWDLD  \n",
       "2            44              28     71  WWDWW  \n",
       "3            43              21     69  WWLWW  \n",
       "4            47              21     66  LLWDW  "
      ]
     },
     "execution_count": 1212,
     "metadata": {},
     "output_type": "execute_result"
    }
   ],
   "source": [
    "standing_df"
   ]
  },
  {
   "cell_type": "code",
   "execution_count": 1213,
   "id": "d59496ed",
   "metadata": {},
   "outputs": [],
   "source": [
    "standings_record_tubles = standing_df.itertuples(index=False, name=None)\n",
    "\n",
    "list_of_standing_record_tubles = list(standings_record_tubles)\n",
    " "
   ]
  },
  {
   "cell_type": "code",
   "execution_count": 1214,
   "id": "06bcd5cd",
   "metadata": {},
   "outputs": [],
   "source": [
    "UPSERT_SQL = f\"\"\"\n",
    "INSERT INTO {sql_table} \n",
    "(season, position, team_id, team, played, won, lost, draw, goals_for, goals_againts, goal_difference, points, form)\n",
    "VALUES (%s, %s, %s, %s, %s, %s, %s, %s, %s, %s, %s, %s, %s)\n",
    "ON DUPLICATE KEY UPDATE\n",
    "    position = VALUES(position),\n",
    "    team = VALUES(team),\n",
    "    played = VALUES(played),\n",
    "    won = VALUES(won),\n",
    "    lost = VALUES(lost),\n",
    "    draw = VALUES(draw),\n",
    "    goals_for = VALUES(goals_for),\n",
    "    goals_againts = VALUES(goals_againts),\n",
    "    goal_difference = VALUES(goal_difference),\n",
    "    points = VALUES(points),\n",
    "    form = VALUES(form);\n",
    "\"\"\"\n"
   ]
  },
  {
   "cell_type": "code",
   "execution_count": 1215,
   "id": "5c078441",
   "metadata": {},
   "outputs": [
    {
     "name": "stdout",
     "output_type": "stream",
     "text": [
      "5\n"
     ]
    }
   ],
   "source": [
    "no_of_rows_uplaoded_to_mysql = len(list_of_standing_record_tubles)\n",
    "\n",
    "print(no_of_rows_uplaoded_to_mysql)\n"
   ]
  },
  {
   "cell_type": "code",
   "execution_count": 1216,
   "id": "63c18057",
   "metadata": {},
   "outputs": [
    {
     "name": "stdout",
     "output_type": "stream",
     "text": [
      "[success] - upsert attempted for 0 rows\n",
      "✅ All database connections are now closed.\n"
     ]
    }
   ],
   "source": [
    "import mysql.connector\n",
    "\n",
    "# Reconnect to MySQL\n",
    "database_connection = mysql.connector.connect(\n",
    "host=MYSQL_HOST,\n",
    "port=MYSQL_Port,\n",
    "user=\"pl_app_writer\",\n",
    "password=\"asdasd123x\",\n",
    "database=\"PL_football\"\n",
    ")\n",
    "\n",
    "try:\n",
    "    cursor = database_connection.cursor()\n",
    "    cursor.executemany(UPSERT_SQL, list_of_standing_record_tubles)\n",
    "    database_connection.commit()\n",
    "    print(f\"[success] - upsert attempted for {cursor.rowcount} rows\")\n",
    "\n",
    "except Exception as e:\n",
    "    # Now rollback works because connection is alive\n",
    "    database_connection.rollback()\n",
    "    print(f\"[error] - rolled back due to this ...: {e}\")\n",
    "\n",
    "finally:\n",
    "    if cursor:\n",
    "        cursor.close()\n",
    "    if database_connection:\n",
    "        database_connection.close()\n",
    "    print(\"✅ All database connections are now closed.\")\n"
   ]
  }
 ],
 "metadata": {
  "kernelspec": {
   "display_name": "football",
   "language": "python",
   "name": "python3"
  },
  "language_info": {
   "codemirror_mode": {
    "name": "ipython",
    "version": 3
   },
   "file_extension": ".py",
   "mimetype": "text/x-python",
   "name": "python",
   "nbconvert_exporter": "python",
   "pygments_lexer": "ipython3",
   "version": "3.11.13"
  }
 },
 "nbformat": 4,
 "nbformat_minor": 5
}
